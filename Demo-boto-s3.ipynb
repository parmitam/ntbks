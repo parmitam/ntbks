{
 "cells": [
  {
   "cell_type": "markdown",
   "metadata": {},
   "source": [
    "## Getting started with AWS: using s3 from AWS SDK in Python"
   ]
  },
  {
   "cell_type": "code",
   "execution_count": 2,
   "metadata": {
    "collapsed": false
   },
   "outputs": [
    {
     "name": "stdout",
     "output_type": "stream",
     "text": [
      
      "myria-sdss\n",
      "myriamoutput\n",
      "psla-synthetic\n",
      "uwdb\n"
     ]
    }
   ],
   "source": [
    "import boto3\n",
    "\n",
    "# Let's use Amazon S3\n",
    "s3 = boto3.resource('s3')\n",
    "\n",
    "# Print out bucket names for logged in account\n",
    "for bucket in s3.buckets.all():\n",
    "    print bucket.name\n",
    "      \n",
    "        \n"
   ]
  },
  {
   "cell_type": "code",
   "execution_count": 3,
   "metadata": {
    "collapsed": false
   },
   "outputs": [
    {
     "data": {
      "text/plain": [
       "s3.Bucket(name='demobucket-2-9-2016')"
      ]
     },
     "execution_count": 3,
     "metadata": {},
     "output_type": "execute_result"
    }
   ],
   "source": [
    "#Create a bucket\n",
    "s3.create_bucket(Bucket='demobucket-2-9-2016', CreateBucketConfiguration={\n",
    "    'LocationConstraint': 'us-west-1'})\n",
    "\n"
   ]
  },
  {
   "cell_type": "code",
   "execution_count": 4,
   "metadata": {
    "collapsed": false
   },
   "outputs": [
    {
     "data": {
      "text/plain": [
       "{u'ETag': '\"770b95bb61d5b0406c135b6e42260580\"',\n",
       " 'ResponseMetadata': {'HTTPStatusCode': 200,\n",
       "  'HostId': 'i6GPtQI887cUeB7rPDsWBotepJ5SQG8O25ZTxCLol8Lj6hmoJ7np1q/jQeET+LDFyq7dOcZ92DQ=',\n",
       "  'RequestId': '37AD7FD0627BECD6'}}"
      ]
     },
     "execution_count": 4,
     "metadata": {},
     "output_type": "execute_result"
    }
   ],
   "source": [
    "#upload file\n",
    "s3.Object('demobucket-2-9-2016', 'test.txt').put(Body=open('test.txt', 'rb'))\n",
    "\n"
   ]
  },
  {
   "cell_type": "code",
   "execution_count": 5,
   "metadata": {
    "collapsed": false
   },
   "outputs": [
    {
     "name": "stdout",
     "output_type": "stream",
     "text": [
      "('myria-aws-admin', 'FULL_CONTROL')\n"
     ]
    },
    {
     "data": {
      "text/plain": [
       "{'ResponseMetadata': {'HTTPStatusCode': 200,\n",
       "  'HostId': 'Ez0+wi63LSjKJGEURUOwDFub1Fv5CRWQZSq7N2NLPfSdJC3isXmWZI433EdAKTcodMA3PLUWLn0=',\n",
       "  'RequestId': 'E874800712809A9F'}}"
      ]
     },
     "execution_count": 5,
     "metadata": {},
     "output_type": "execute_result"
    }
   ],
   "source": [
    "#List permissions for my bucet\n",
    "bucket = s3.Bucket('demobucket-2-9-2016')\n",
    "acl = bucket.Acl()\n",
    "print \"List permissions on my bucket:\", bucket.name\n",
    "for grant in acl.grants:\n",
    "    print(grant['Grantee']['DisplayName'], grant['Permission'])\n",
    "\n",
    "#Set permissions on my bucket\n",
    "bucket.Acl().put(ACL='public-read')\n"
   ]
  }
 ],
 "metadata": {
  "kernelspec": {
   "display_name": "Python 2",
   "language": "python",
   "name": "python2"
  },
  "language_info": {
   "codemirror_mode": {
    "name": "ipython",
    "version": 2
   },
   "file_extension": ".py",
   "mimetype": "text/x-python",
   "name": "python",
   "nbconvert_exporter": "python",
   "pygments_lexer": "ipython2",
   "version": "2.7.11"
  }
 },
 "nbformat": 4,
 "nbformat_minor": 0
}
